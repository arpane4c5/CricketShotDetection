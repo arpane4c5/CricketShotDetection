{
 "cells": [
  {
   "cell_type": "markdown",
   "metadata": {},
   "source": [
    "# Shot Boundary Detection in Cricket Sample Videos using Bayesian Inference"
   ]
  },
  {
   "cell_type": "markdown",
   "metadata": {},
   "source": [
    "Here we try to model the Shot Boundary Detection problem using Bayesian Inference approach. The sample videos of cricket highlights have been used. In the dataset we have 26 videos total, which have been manually labeled for shot boundaries (only Cuts). Each video is of approx. 3-5 mins having 3k-6k frames. \n",
    "\n",
    "The steps involved will be:\n",
    "1. It is a binary classification problem, where features X are taken as the summed up histogram difference values of consecutive frames.\n",
    "2. C = {Cuts(c), Non-Cuts(c')}, X = {sum(hist-diff(Icurr, Iprev))}\n",
    "3. P(C | X) = P(X | C) P(C) / (P(X|c).P(c) + P(X|c').P(c'))\n",
    "4. Define the training, validation and test sets. (60% (16 videos), 20% (5 videos), 20% (5 videos))\n",
    "5. Extract the #+ve sample values, and #-ve sample values, for all the training videos. Save in file.\n",
    "6. "
   ]
  },
  {
   "cell_type": "code",
   "execution_count": 3,
   "metadata": {},
   "outputs": [],
   "source": [
    "import cv2\n",
    "import numpy as np\n",
    "import os\n",
    "\n",
    "DATASET = \"/opt/datasets/cricket/ICC_WT20\"\n",
    "LABELS = \"/opt/datasets/cricket/gt_ICC_WT20\""
   ]
  },
  {
   "cell_type": "code",
   "execution_count": 14,
   "metadata": {},
   "outputs": [],
   "source": [
    "# Split the dataset files into training, validation and test sets\n",
    "def split_dataset_files():\n",
    "    filenames = sorted(os.listdir(DATASET))         # read the filenames\n",
    "    filenames = [t.split('.')[0] for t in filenames]   # remove the extension\n",
    "    return filenames[:16], filenames[16:21], filenames[21:]"
   ]
  },
  {
   "cell_type": "code",
   "execution_count": 20,
   "metadata": {},
   "outputs": [],
   "source": [
    "# function to extract the features from a list videos\n",
    "# list of videos for which hist_diff values are to be extracted\n",
    "def extract_hist_diff_vids(vids_lst):\n",
    "    # iterate over the videos to extract the hist_diff values\n",
    "    for idx, vid in enumerate(vids_lst):\n",
    "        get_hist_diff(os.path.join(DATASET, vid+'.avi'))"
   ]
  },
  {
   "cell_type": "code",
   "execution_count": 26,
   "metadata": {},
   "outputs": [],
   "source": [
    "# read the video file and extract the hist_diff values in a list and return the list\n",
    "def get_hist_diff(vid_path):\n",
    "    cap = cv2.VideoCapture(vid_path)\n",
    "    if not cap.isOpened():\n",
    "        import sys\n",
    "        print \"Capture object not opened\"\n",
    "        sys.exit()\n",
    "    print \"Opened Video : \"+vid_path\n",
    "    \n",
    "    ret, frame = cap.read()\n",
    "    while(cap.isOpened()):\n",
    "        ret, frame = cap.read()\n",
    "    cap.release()"
   ]
  },
  {
   "cell_type": "code",
   "execution_count": null,
   "metadata": {},
   "outputs": [],
   "source": [
    "# function to get the weighted chi squared values for diff-hist\n",
    "def weighted_chi_sq_test(srcVideoPath, destPath, th):\n",
    "    # get the VideoCapture object\n",
    "    cap = cv2.VideoCapture(srcVideoPath)\n",
    "    \n",
    "    # if the videoCapture object is not opened then exit without traceback\n",
    "    if not cap.isOpened():\n",
    "        import sys\n",
    "        print(\"Error reading the video file !!\")\n",
    "        sys.exit(0)\n",
    "    \n",
    "    dimensions = (int(cap.get(cv2.CAP_PROP_FRAME_WIDTH)),int(cap.get(cv2.CAP_PROP_FRAME_HEIGHT)))\n",
    "    fps = cap.get(cv2.CAP_PROP_FPS)\n",
    "    #fourcc = cv2.cv.CV_FOURCC(*'XVID')\n",
    "    \n",
    "    N = 256     # no of bins for histogram\n",
    "    frameCount = 0\n",
    "    color = ('b','g','r')     # defined for 3 channels\n",
    "    # uncomment following line for grayscale\n",
    "    #color = ('b')\n",
    "    prev_hist = np.zeros((256, 3))      # histograms for 3 channels\n",
    "    curr_hist = np.zeros((256, 3))\n",
    "    diffs = np.zeros((1, 1))        # single number appended to vector\n",
    "    while(cap.isOpened()):\n",
    "        # Capture frame by frame\n",
    "        ret, frame = cap.read()\n",
    "        # print(ret)\n",
    "    \n",
    "        if ret==True:\n",
    "            # frame = cv2.flip(frame)\n",
    "            frameCount = frameCount + 1\n",
    "            \n",
    "            for i,col in enumerate(color):\n",
    "                # cv2.calcHist(images, channels, mask, histSize, ranges[, hist[, accumulate]])\n",
    "                curr_hist[:,i] = np.reshape(cv2.calcHist([frame], [i], None, [N], [0,N]), (N,))\n",
    "            \n",
    "            if frameCount > 1:\n",
    "                # find the L1 distance of the current frame hist to previous frame hist \n",
    "                #dist = np.sum(abs(curr_hist - prev_hist), axis=0)\n",
    "                ######################################################\n",
    "                # find the squared distances\n",
    "                sq_diffs = (curr_hist - prev_hist)**2\n",
    "                # max values of corresponding bins max(Hi(k), Hj(k))\n",
    "                max_bin_values = np.maximum(curr_hist, prev_hist)\n",
    "                # find sq_diffs/max_bin_values, will generate nan for 0/0 cases\n",
    "                d1 = np.divide(sq_diffs, max_bin_values)\n",
    "                # convert nan to 0\n",
    "                nan_indices = np.isnan(d1)\n",
    "                d1[nan_indices] = 0\n",
    "                # Identify which channel is RGB\n",
    "                # multiply col 0 by gamma (Blue), col 1 by beta (green)\n",
    "                # and col 2 by alpha (red)\n",
    "                gamma_beta_alpha = np.array([0.114, 0.587, 0.299])\n",
    "                # multiply each column by const\n",
    "                d1 = d1*gamma_beta_alpha\n",
    "                #d1 = np.sum(np.sum(d1, axis=1))     # sum the columns (3 channels)\n",
    "                #sum up everything\n",
    "                dist = np.sum(d1)/(3.0*N)       # N = 256 bins\n",
    "                ######################################################\n",
    "                #diffs.append(dist)\n",
    "                diffs = np.vstack([diffs, dist])\n",
    "                print(\"dist appended = \", type(dist), dist)\n",
    "                print(\"diffs shape = \", type(diffs), diffs.shape)\n",
    "        \n",
    "            np.copyto(prev_hist, curr_hist)        \n",
    "            \n",
    "            ### write the flipped frame\n",
    "            cv2.imshow('frame', frame)\n",
    "            # Our operations on the frame come here\n",
    "            # gray = cv2.cvtColor(frame, cv2.COLOR_BGR2GRAY)\n",
    "            \n",
    "            # Display the resulting frame\n",
    "            # cv2.imshow('frame', gray)\n",
    "            if cv2.waitKey(10) == 27:\n",
    "                print('Esc pressed')\n",
    "                break\n",
    "            \n",
    "        else:\n",
    "            break\n",
    "\n",
    "    # When everything done, release the capture\n",
    "    cap.release()\n",
    "    #out.release()\n",
    "    cv2.destroyAllWindows()\n",
    "    plt.close(\"all\")\n",
    "    # draw the line graph of the diffs signal\n",
    "    for i,col in enumerate(color):\n",
    "        fig = plt.figure(i)\n",
    "        plt.title(\"Weighted Chi-Test of Consecutive frame Histograms\")\n",
    "        plt.xlabel(\"Frame No.\")\n",
    "        plt.ylabel(\"Wtd. Chi-Sq Dist. of H(fi) and H(fj)\")\n",
    "        ax = fig.add_subplot(111)\n",
    "        plot_points = diffs[:,i]\n",
    "        plt.plot(plot_points, color=col, label=str(i))\n",
    "        # loop over only the peaks above threshold\n",
    "        peaks = [(x,y) for (x,y) in zip(range(len(plot_points)),plot_points) if y>th]\n",
    "        for ind,(x,y) in enumerate(peaks):\n",
    "            ax.annotate('(%s,s'%x+str(ind)+')', xy=(x,y), textcoords='data')\n",
    "        plt.grid()\n",
    "        #plt.plot(diffs)\n",
    "        plt.savefig(os.path.join(destPath,\"hist_\"+str(col)+\".png\"), bbox_inches='tight')\n",
    "    # save diff_hist to disk    \n",
    "    outfile = file(os.path.join(destPath,\"diff_hist.bin\"), \"wb\")\n",
    "    np.save(outfile, diffs)\n",
    "    outfile.close()\n",
    "    return diffs"
   ]
  },
  {
   "cell_type": "code",
   "execution_count": null,
   "metadata": {},
   "outputs": [],
   "source": [
    "# function to learn the model"
   ]
  },
  {
   "cell_type": "code",
   "execution_count": 17,
   "metadata": {},
   "outputs": [],
   "source": [
    "#f = sorted(os.listdir(DATASET))\n",
    "#gt = sorted(os.listdir(LABELS))\n",
    "#f1 = [t.split('.')[0] for t in f]\n",
    "#print f1\n",
    "#for i,name in enumerate(f):\n",
    "#    print(i, name.split('.')[0], gt[i])"
   ]
  },
  {
   "cell_type": "code",
   "execution_count": 24,
   "metadata": {},
   "outputs": [
    {
     "name": "stdout",
     "output_type": "stream",
     "text": [
      "Opened Video : /opt/datasets/cricket/ICC_WT20/ICC WT20 Scotland vs Zimbabwe Highlights.avi\n",
      "Opened Video : /opt/datasets/cricket/ICC_WT20/ICC WT20 South Africa v Sri Lanka - Match Highlights.avi\n",
      "Opened Video : /opt/datasets/cricket/ICC_WT20/ICC WT20 South Africa vs West Indies - Match Highlights.avi\n",
      "Opened Video : /opt/datasets/cricket/ICC_WT20/ICC WT20 Sri Lanka v Afghanistan Cricket Match Highlights.avi\n",
      "Opened Video : /opt/datasets/cricket/ICC_WT20/ICC WT20 West Indies v India - Semi-Final Highlights.avi\n"
     ]
    }
   ],
   "source": [
    "if __name__==\"__main__\":\n",
    "    # Divide the samples files into training set, validation and test sets\n",
    "    train_lst, val_lst, test_lst = split_dataset_files()\n",
    "    #print(train_lst, len(train_lst))\n",
    "    #print 100*\"-\"\n",
    "    #print val_lst\n",
    "    #print 100*\"-\"\n",
    "    #print test_lst\n",
    "    \n",
    "    # Extract the histogram difference features from the training set\n",
    "    extract_hist_diff_vids(test_lst)"
   ]
  },
  {
   "cell_type": "code",
   "execution_count": null,
   "metadata": {},
   "outputs": [],
   "source": []
  }
 ],
 "metadata": {
  "kernelspec": {
   "display_name": "Python 2",
   "language": "python",
   "name": "python2"
  },
  "language_info": {
   "codemirror_mode": {
    "name": "ipython",
    "version": 2
   },
   "file_extension": ".py",
   "mimetype": "text/x-python",
   "name": "python",
   "nbconvert_exporter": "python",
   "pygments_lexer": "ipython2",
   "version": "2.7.12"
  }
 },
 "nbformat": 4,
 "nbformat_minor": 2
}
